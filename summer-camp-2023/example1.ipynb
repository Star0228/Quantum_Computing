{
 "cells": [
  {
   "cell_type": "code",
   "execution_count": 8,
   "metadata": {},
   "outputs": [
    {
     "name": "stdout",
     "output_type": "stream",
     "text": [
      "1.3.1\n"
     ]
    }
   ],
   "source": [
    "\n",
    "import qiskit\n",
    "print(qiskit.__version__) "
   ]
  },
  {
   "cell_type": "code",
   "execution_count": 9,
   "metadata": {},
   "outputs": [],
   "source": [
    "from qiskit_algorithms.minimum_eigensolvers import QAOA                             \n",
    "from qiskit_algorithms.optimizers import COBYLA\n",
    "from qiskit_aer.primitives import Sampler\n",
    "from qiskit_finance.applications.optimization import PortfolioOptimization\n",
    "from qiskit_finance.data_providers import RandomDataProvider,YahooDataProvider\n",
    "from qiskit_optimization.algorithms import MinimumEigenOptimizer\n",
    "import datetime"
   ]
  },
  {
   "attachments": {},
   "cell_type": "markdown",
   "metadata": {},
   "source": [
    "$$\n",
    "\\begin{aligned}\n",
    "\\min_{x \\in \\{0, 1\\}^n}\\quad& q x^T \\Sigma x - \\mu^T x\\\\\n",
    "\\text{s.t.}\\quad& 1^T x = B\n",
    "\\end{aligned}\n",
    "$$\n",
    "\n",
    "定义基本的参数，构造数据。"
   ]
  },
  {
   "cell_type": "code",
   "execution_count": 10,
   "metadata": {},
   "outputs": [],
   "source": [
    "num_assets = 4\n",
    "data = RandomDataProvider(\n",
    "    tickers=[f\"TICKERS{i}\" for i in range(num_assets)],\n",
    "    start=datetime.datetime(2021, 11, 17),\n",
    "    end=datetime.datetime(2022, 11, 17),\n",
    ")\n",
    "# data = YahooDataProvider(\n",
    "#     tickers=[\"MSFT\", \"AAPL\", \"GOOG\"],\n",
    "#     start=datetime.datetime(2021, 1, 1),\n",
    "#     end=datetime.datetime(2021, 12, 31),\n",
    "# )\n",
    "data.run()\n",
    "mu = data.get_period_return_mean_vector()\n",
    "sigma = data.get_period_return_covariance_matrix()\n",
    "q = 0.5\n",
    "B = num_assets // 2"
   ]
  },
  {
   "attachments": {},
   "cell_type": "markdown",
   "metadata": {},
   "source": [
    "定义投资组合优化问题。"
   ]
  },
  {
   "cell_type": "code",
   "execution_count": 11,
   "metadata": {},
   "outputs": [],
   "source": [
    "problem = PortfolioOptimization(mu, sigma, q, B)"
   ]
  },
  {
   "attachments": {},
   "cell_type": "markdown",
   "metadata": {},
   "source": [
    "将原问题转化为一个二次规划问题。"
   ]
  },
  {
   "cell_type": "code",
   "execution_count": 12,
   "metadata": {},
   "outputs": [
    {
     "name": "stdout",
     "output_type": "stream",
     "text": [
      "minimize 0.007428141257455332*x_0^2 - 0.00014646452452063768*x_0*x_1 + 1.2694914454502858e-05*x_0*x_2 + 6.537730465747055e-05*x_0*x_3 + 0.00011451021949265586*x_1^2 - 4.273910587657039e-06*x_1*x_2 - 1.3178550991620608e-05*x_1*x_3 + 4.8795161029921835e-05*x_2^2 - 9.093994948981333e-06*x_2*x_3 + 8.490486718410337e-05*x_3^2 + 0.005231170899957208*x_0 - 0.00034547772956898336*x_1 + 6.590943566140697e-05*x_2 - 0.0005596412317659577*x_3 (4 variables, 1 constraints, 'Portfolio optimization')\n"
     ]
    }
   ],
   "source": [
    "quadratic_program = problem.to_quadratic_program()\n",
    "print(quadratic_program)"
   ]
  },
  {
   "attachments": {},
   "cell_type": "markdown",
   "metadata": {},
   "source": [
    "利用QAOA求解，得到投资方案。"
   ]
  },
  {
   "cell_type": "code",
   "execution_count": 13,
   "metadata": {},
   "outputs": [
    {
     "name": "stdout",
     "output_type": "stream",
     "text": [
      "fval=-0.0007188824256498024, x_0=0.0, x_1=1.0, x_2=0.0, x_3=1.0, status=SUCCESS\n"
     ]
    }
   ],
   "source": [
    "result = MinimumEigenOptimizer(QAOA(Sampler(), COBYLA())).solve(\n",
    "    quadratic_program\n",
    ")\n",
    "print(result)"
   ]
  },
  {
   "attachments": {},
   "cell_type": "markdown",
   "metadata": {},
   "source": [
    "输出全部的可能方案，得到满足约束方案的概率大。"
   ]
  },
  {
   "cell_type": "code",
   "execution_count": 14,
   "metadata": {},
   "outputs": [
    {
     "name": "stdout",
     "output_type": "stream",
     "text": [
      "投资方案\t\t概率\t目标函数值\n",
      "[1, 1, 0, 0]\t0.1211\t0.012282\n",
      "[1, 0, 0, 1]\t0.1152\t0.012250\n",
      "[0, 1, 0, 1]\t0.1094\t-0.000719\n",
      "[1, 0, 1, 0]\t0.1045\t0.012787\n",
      "[0, 0, 1, 1]\t0.0947\t-0.000369\n",
      "[0, 1, 1, 0]\t0.0938\t-0.000121\n",
      "[1, 1, 0, 1]\t0.0508\t0.011859\n",
      "[1, 0, 1, 1]\t0.0508\t0.012368\n",
      "[0, 0, 1, 0]\t0.0498\t0.000115\n",
      "[0, 0, 0, 1]\t0.0439\t-0.000475\n",
      "[1, 1, 1, 0]\t0.0439\t0.012405\n",
      "[0, 1, 1, 1]\t0.0430\t-0.000618\n",
      "[0, 1, 0, 0]\t0.0420\t-0.000231\n",
      "[1, 0, 0, 0]\t0.0371\t0.012659\n"
     ]
    }
   ],
   "source": [
    "print(\"投资方案\\t\\t概率\\t目标函数值\")\n",
    "for (\n",
    "    k,\n",
    "    v,\n",
    ") in sorted(\n",
    "    result.min_eigen_solver_result.eigenstate.binary_probabilities().items(),\n",
    "    key=lambda x: x[1],\n",
    "    reverse=True,\n",
    "):\n",
    "    x = [int(i) for i in list(reversed(k))]\n",
    "    print(\n",
    "        f\"{x}\\t{v:.4f}\\t{problem.to_quadratic_program().objective.evaluate(x):.6f}\"\n",
    "    )"
   ]
  }
 ],
 "metadata": {
  "kernelspec": {
   "display_name": "summer-camp-qf-2023",
   "language": "python",
   "name": "python3"
  },
  "language_info": {
   "codemirror_mode": {
    "name": "ipython",
    "version": 3
   },
   "file_extension": ".py",
   "mimetype": "text/x-python",
   "name": "python",
   "nbconvert_exporter": "python",
   "pygments_lexer": "ipython3",
   "version": "3.10.16"
  },
  "orig_nbformat": 4
 },
 "nbformat": 4,
 "nbformat_minor": 2
}
